{
 "cells": [
  {
   "cell_type": "markdown",
   "id": "f6c20f6b-c912-4b19-bb20-fd0a3bf9027f",
   "metadata": {},
   "source": [
    "# Getting started with the CEDA STAC API\n",
    "\n",
    "This notebook outlines how to use the CEDA STAC API's transaction endpoint, using a the client credentials flow. \n",
    "\n",
    "\n",
    "## 1. Imports & Setup\n",
    "First we import `httpx`, `yaml`, and `json` libraries.\n",
    "And load the config and test collection and item."
   ]
  },
  {
   "cell_type": "code",
   "execution_count": 12,
   "id": "4ea55be8-c472-46fd-a4fc-5631b97652e1",
   "metadata": {},
   "outputs": [],
   "source": [
    "import httpx\n",
    "import yaml\n",
    "import json\n",
    "import os\n",
    "from httpx_auth import OAuth2ClientCredentials\n",
    "\n",
    "with open(\".transactions-settings.yml\") as reader:\n",
    "    conf = yaml.safe_load(reader)\n",
    "\n",
    "api_root_url = conf.get(\"API_ROOT_URL\", \"http://localhost:8000\")\n",
    "\n",
    "headers = {\n",
    "    \"client_id\": conf.get(\"CLIENT_ID\"),\n",
    "    \"client_secret\": conf.get(\"CLIENT_KEY\")\n",
    "}\n",
    "# client = httpx.Client(headers=headers)\n",
    "auth=OAuth2ClientCredentials(\n",
    "    conf.get(\"TOKEN_URL\"),\n",
    "    client_id=conf.get(\"CLIENT_ID\"),\n",
    "    client_secret=conf.get(\"CLIENT_KEY\")\n",
    ")\n",
    "client = httpx.Client(auth=auth)\n",
    "\n",
    "with open(\"data/collection.json\") as collection_file, open(\"data/item.json\") as item_file:\n",
    "    collection = json.load(collection_file)\n",
    "    item = json.load(item_file)"
   ]
  },
  {
   "cell_type": "markdown",
   "id": "d7ff1854-52d7-4303-92c5-1d1ecc367e46",
   "metadata": {},
   "source": [
    "## 2. Collection transaction endpoints\n",
    "\n",
    "### a. Adding a collection\n",
    "Now we can define the collections endpoint and post our test collection to it."
   ]
  },
  {
   "cell_type": "code",
   "execution_count": 19,
   "id": "974f52db-c158-4f7a-bd55-8455fc86802a",
   "metadata": {},
   "outputs": [
    {
     "name": "stdout",
     "output_type": "stream",
     "text": [
      "{'type': 'Collection', 'stac_version': '1.0.0', 'stac_extensions': [], 'id': 'cmip6', 'extent': {'temporal': {'interval': None}, 'spatial': {'bbox': None}}, 'summaries': {'uri': 'cmip6', 'mip_era': ['CMIP6'], 'activity_id': ['C4MIP', 'CMIP'], 'institution_id': ['MOHC'], 'source_id': ['UKESM1-0-LL'], 'table_id': ['Amon'], 'var_id': ['tas'], 'version': ['v20190502', 'v20190806', 'v20191210']}, 'assets': {}}\n"
     ]
    },
    {
     "data": {
      "text/plain": [
       "'{\"code\":\"ConflictError\",\"description\":\"Collection cmip6 already exists\"}'"
      ]
     },
     "execution_count": 19,
     "metadata": {},
     "output_type": "execute_result"
    }
   ],
   "source": [
    "collections_url = os.path.join(api_root_url, \"collections\")\n",
    "r = client.post(collections_url, json=collection)\n",
    "r"
   ]
  },
  {
   "cell_type": "markdown",
   "id": "7f4b7c95-c6e5-4b96-a036-4b5f9c1a2f5e",
   "metadata": {},
   "source": [
    "### b. Updating a collection\n",
    "An existing collection can be update at the collections endpoint."
   ]
  },
  {
   "cell_type": "code",
   "execution_count": 25,
   "id": "f69cde58-a954-4cba-967c-c526ef512cf6",
   "metadata": {},
   "outputs": [
    {
     "name": "stdout",
     "output_type": "stream",
     "text": [
      "{'type': 'Collection', 'stac_version': '1.0.0', 'stac_extensions': [], 'id': 'cmip6', 'extent': {'temporal': {'interval': None}, 'spatial': {'bbox': None}}, 'summaries': {'uri': 'cmip6', 'mip_era': ['CMIP6'], 'activity_id': ['C4MIP', 'CMIP'], 'institution_id': ['MOHC'], 'source_id': ['UKESM1-0-LL'], 'table_id': ['Amon'], 'var_id': ['tas'], 'version': ['v20190502', 'v20190806', 'v20191210'], 'another_facet': ['Hello world']}, 'assets': {}}\n"
     ]
    },
    {
     "data": {
      "text/plain": [
       "<Response [500 Internal Server Error]>"
      ]
     },
     "execution_count": 25,
     "metadata": {},
     "output_type": "execute_result"
    }
   ],
   "source": [
    "collection_url = os.path.join(collections_url, collection.get(\"id\", \"test_collection\"))\n",
    "updated_collection = collection | {\"summaries\": collection[\"summaries\"] | {\"another_facet\": [\"Hello world\"]}}\n",
    "print(updated_collection)\n",
    "# Currently using the collections endpoint this will change once \n",
    "# https://github.com/stac-utils/stac-fastapi/pull/631 is accepted\n",
    "r = client.put(collection_url, json=updated_collection)\n",
    "r"
   ]
  },
  {
   "cell_type": "markdown",
   "id": "cb9826c5-ff92-4847-82e1-c8cc705ad948",
   "metadata": {},
   "source": [
    "### c. Removing a collection\n",
    "The collection can also be removed. **Note** removing a collection will also remove all of it's items."
   ]
  },
  {
   "cell_type": "code",
   "execution_count": 27,
   "id": "b9097594-2691-44aa-9275-5ca6a5e6a495",
   "metadata": {
    "tags": []
   },
   "outputs": [
    {
     "data": {
      "text/plain": [
       "<Response [500 Internal Server Error]>"
      ]
     },
     "execution_count": 27,
     "metadata": {},
     "output_type": "execute_result"
    }
   ],
   "source": [
    "r = client.delete(collection_url)\n",
    "r"
   ]
  },
  {
   "cell_type": "markdown",
   "id": "2ffcc562-f199-406b-b5e1-7d32ecb26360",
   "metadata": {},
   "source": [
    "## 3. Item transaction endpoints\n",
    "\n",
    "### a. Adding an item\n",
    "Now we can define the item endpoint and post our test item to it. **Note** The item's collection must exist before the item is created."
   ]
  },
  {
   "cell_type": "code",
   "execution_count": 5,
   "id": "cb5d4d1a-e645-4037-bd81-13e465fee718",
   "metadata": {
    "tags": []
   },
   "outputs": [],
   "source": [
    "items_url = os.path.join(collection_url, \"items\")\n",
    "r = client.post(collections_url, json=collection)"
   ]
  },
  {
   "cell_type": "markdown",
   "id": "174ca2d5-0196-4bf5-9d09-e967b670d288",
   "metadata": {},
   "source": [
    "### b. Updating an item\n",
    "An existing item can be update at the desired item's endpoint."
   ]
  },
  {
   "cell_type": "code",
   "execution_count": null,
   "id": "a1ecd2f0-df68-48c1-ae7c-89ff12348e77",
   "metadata": {},
   "outputs": [],
   "source": [
    "item_url = os.path.join(items_url,  item.get(\"id\", \"test_item\"))\n",
    "updated_item = item | {\"properties\": {\"another_facet\": \"Hello world\"}}\n",
    "r = client.put(item_url, data=updated_item)"
   ]
  },
  {
   "cell_type": "markdown",
   "id": "0a0e0e39-3fd3-4a24-9160-4a795ef1be52",
   "metadata": {},
   "source": [
    "### c. Removing an item\n",
    "The item can also be removed."
   ]
  },
  {
   "cell_type": "code",
   "execution_count": null,
   "id": "7f299f15-e8fd-4552-b820-d37fb9118272",
   "metadata": {
    "tags": []
   },
   "outputs": [],
   "source": [
    "r = client.delete(item_url)"
   ]
  }
 ],
 "metadata": {
  "kernelspec": {
   "display_name": "Python 3",
   "language": "python",
   "name": "python3"
  },
  "language_info": {
   "codemirror_mode": {
    "name": "ipython",
    "version": 3
   },
   "file_extension": ".py",
   "mimetype": "text/x-python",
   "name": "python",
   "nbconvert_exporter": "python",
   "pygments_lexer": "ipython3",
   "version": "3.9.0"
  }
 },
 "nbformat": 4,
 "nbformat_minor": 5
}
